{
 "cells": [
  {
   "cell_type": "code",
   "execution_count": 1,
   "id": "ec044bdf",
   "metadata": {},
   "outputs": [
    {
     "name": "stderr",
     "output_type": "stream",
     "text": [
      "d:\\Github\\Gen_AI_Agents\\GenAI_Agents\\.venv\\lib\\site-packages\\tqdm\\auto.py:21: TqdmWarning: IProgress not found. Please update jupyter and ipywidgets. See https://ipywidgets.readthedocs.io/en/stable/user_install.html\n",
      "  from .autonotebook import tqdm as notebook_tqdm\n"
     ]
    },
    {
     "name": "stdout",
     "output_type": "stream",
     "text": [
      "I'm functioning perfectly, thank you for asking! As an AI, I don't experience emotions or physical states, but I'm ready and available to help with whatever you need.\n",
      "\n",
      "How can I assist you today?\n"
     ]
    }
   ],
   "source": [
    "import google.generativeai as genai\n",
    "import os\n",
    "\n",
    "# Set your API key securely\n",
    "api_key = os.getenv(\"GOOGLE_API_KEY\")\n",
    "genai.configure(api_key=api_key)\n",
    "\n",
    "# Initialize the model\n",
    "model = genai.GenerativeModel(\"gemini-2.5-flash\") \n",
    "\n",
    "# Generate content\n",
    "response = model.generate_content(\"How are you?\")\n",
    "print(response.text)"
   ]
  },
  {
   "cell_type": "code",
   "execution_count": 3,
   "id": "d163a8a1",
   "metadata": {},
   "outputs": [
    {
     "name": "stdout",
     "output_type": "stream",
     "text": [
      "DataFrame has been written to the SQLite database successfully.\n"
     ]
    }
   ],
   "source": [
    "import sqlite3\n",
    "import pandas as pd\n",
    "import os\n",
    "\n",
    "\n",
    "df = pd.read_csv(r'D:\\Github\\Gen_AI_Agents\\GenAI_Agents\\all_agents_tutorials\\data\\banking_sentiment_data.csv')\n",
    "\n",
    "conn = sqlite3.connect(r'D:\\Github\\Gen_AI_Agents\\GenAI_Agents\\all_agents_tutorials\\data\\chinook.db')\n",
    "\n",
    "df.to_sql('banking_sentiment_data', conn, if_exists='replace', index=False)\n",
    "\n",
    "conn.close()\n",
    "\n",
    "print(\"DataFrame has been written to the SQLite database successfully.\")\n",
    "\n",
    "\n"
   ]
  },
  {
   "cell_type": "code",
   "execution_count": 6,
   "id": "bbece98e",
   "metadata": {},
   "outputs": [],
   "source": [
    "query = \"SELECT * FROM banking_sentiment_data LIMIT 4;\"\n",
    "\n",
    "conn = sqlite3.connect(r'D:\\Github\\Gen_AI_Agents\\GenAI_Agents\\all_agents_tutorials\\data\\chinook.db')\n",
    "\n",
    "result_df = pd.read_sql_query(query, conn)\n",
    "\n",
    "conn.close()"
   ]
  },
  {
   "cell_type": "code",
   "execution_count": 7,
   "id": "23eb3860",
   "metadata": {},
   "outputs": [
    {
     "data": {
      "text/html": [
       "<div>\n",
       "<style scoped>\n",
       "    .dataframe tbody tr th:only-of-type {\n",
       "        vertical-align: middle;\n",
       "    }\n",
       "\n",
       "    .dataframe tbody tr th {\n",
       "        vertical-align: top;\n",
       "    }\n",
       "\n",
       "    .dataframe thead th {\n",
       "        text-align: right;\n",
       "    }\n",
       "</style>\n",
       "<table border=\"1\" class=\"dataframe\">\n",
       "  <thead>\n",
       "    <tr style=\"text-align: right;\">\n",
       "      <th></th>\n",
       "      <th>customer_id</th>\n",
       "      <th>transaction_type</th>\n",
       "      <th>channel</th>\n",
       "      <th>feedback_text</th>\n",
       "      <th>sentiment</th>\n",
       "      <th>timestamp</th>\n",
       "    </tr>\n",
       "  </thead>\n",
       "  <tbody>\n",
       "    <tr>\n",
       "      <th>0</th>\n",
       "      <td>bdd640fb-0667-4ad1-9c80-317fa3b1799d</td>\n",
       "      <td>transaction dispute</td>\n",
       "      <td>email</td>\n",
       "      <td>Each cause bill scientist nation opportunity a...</td>\n",
       "      <td>neutral</td>\n",
       "      <td>2025-07-01T14:40:39</td>\n",
       "    </tr>\n",
       "    <tr>\n",
       "      <th>1</th>\n",
       "      <td>6b65a6a4-8b81-48f6-b38a-088ca65ed389</td>\n",
       "      <td>mobile app feedback</td>\n",
       "      <td>mobile app</td>\n",
       "      <td>Last everything thank serve civil institution ...</td>\n",
       "      <td>neutral</td>\n",
       "      <td>2025-02-21T02:04:12</td>\n",
       "    </tr>\n",
       "    <tr>\n",
       "      <th>2</th>\n",
       "      <td>580d7b71-d8f5-4413-9be6-128e18c26797</td>\n",
       "      <td>mobile app feedback</td>\n",
       "      <td>branch</td>\n",
       "      <td>Enough analysis least by two bad fall pick tho...</td>\n",
       "      <td>positive</td>\n",
       "      <td>2025-07-23T18:24:37</td>\n",
       "    </tr>\n",
       "    <tr>\n",
       "      <th>3</th>\n",
       "      <td>daf61a26-146d-4f31-bc37-7a4c4a15544d</td>\n",
       "      <td>account opening</td>\n",
       "      <td>website chat</td>\n",
       "      <td>Term herself law street class great prove redu...</td>\n",
       "      <td>positive</td>\n",
       "      <td>2025-06-19T00:01:01</td>\n",
       "    </tr>\n",
       "  </tbody>\n",
       "</table>\n",
       "</div>"
      ],
      "text/plain": [
       "                            customer_id     transaction_type       channel  \\\n",
       "0  bdd640fb-0667-4ad1-9c80-317fa3b1799d  transaction dispute         email   \n",
       "1  6b65a6a4-8b81-48f6-b38a-088ca65ed389  mobile app feedback    mobile app   \n",
       "2  580d7b71-d8f5-4413-9be6-128e18c26797  mobile app feedback        branch   \n",
       "3  daf61a26-146d-4f31-bc37-7a4c4a15544d      account opening  website chat   \n",
       "\n",
       "                                       feedback_text sentiment  \\\n",
       "0  Each cause bill scientist nation opportunity a...   neutral   \n",
       "1  Last everything thank serve civil institution ...   neutral   \n",
       "2  Enough analysis least by two bad fall pick tho...  positive   \n",
       "3  Term herself law street class great prove redu...  positive   \n",
       "\n",
       "             timestamp  \n",
       "0  2025-07-01T14:40:39  \n",
       "1  2025-02-21T02:04:12  \n",
       "2  2025-07-23T18:24:37  \n",
       "3  2025-06-19T00:01:01  "
      ]
     },
     "execution_count": 7,
     "metadata": {},
     "output_type": "execute_result"
    }
   ],
   "source": [
    "result_df"
   ]
  },
  {
   "cell_type": "code",
   "execution_count": 8,
   "id": "b548e3f1",
   "metadata": {},
   "outputs": [
    {
     "data": {
      "text/html": [
       "<div>\n",
       "<style scoped>\n",
       "    .dataframe tbody tr th:only-of-type {\n",
       "        vertical-align: middle;\n",
       "    }\n",
       "\n",
       "    .dataframe tbody tr th {\n",
       "        vertical-align: top;\n",
       "    }\n",
       "\n",
       "    .dataframe thead th {\n",
       "        text-align: right;\n",
       "    }\n",
       "</style>\n",
       "<table border=\"1\" class=\"dataframe\">\n",
       "  <thead>\n",
       "    <tr style=\"text-align: right;\">\n",
       "      <th></th>\n",
       "      <th>customer_id</th>\n",
       "      <th>transaction_type</th>\n",
       "      <th>channel</th>\n",
       "      <th>feedback_text</th>\n",
       "      <th>sentiment</th>\n",
       "      <th>timestamp</th>\n",
       "      <th>Sentiment_Analysis</th>\n",
       "    </tr>\n",
       "  </thead>\n",
       "  <tbody>\n",
       "    <tr>\n",
       "      <th>0</th>\n",
       "      <td>bdd640fb-0667-4ad1-9c80-317fa3b1799d</td>\n",
       "      <td>transaction dispute</td>\n",
       "      <td>email</td>\n",
       "      <td>Each cause bill scientist nation opportunity a...</td>\n",
       "      <td>neutral</td>\n",
       "      <td>2025-07-01T14:40:39</td>\n",
       "      <td>Neutral</td>\n",
       "    </tr>\n",
       "    <tr>\n",
       "      <th>1</th>\n",
       "      <td>6b65a6a4-8b81-48f6-b38a-088ca65ed389</td>\n",
       "      <td>mobile app feedback</td>\n",
       "      <td>mobile app</td>\n",
       "      <td>Last everything thank serve civil institution ...</td>\n",
       "      <td>neutral</td>\n",
       "      <td>2025-02-21T02:04:12</td>\n",
       "      <td>Neutral</td>\n",
       "    </tr>\n",
       "    <tr>\n",
       "      <th>2</th>\n",
       "      <td>580d7b71-d8f5-4413-9be6-128e18c26797</td>\n",
       "      <td>mobile app feedback</td>\n",
       "      <td>branch</td>\n",
       "      <td>Enough analysis least by two bad fall pick tho...</td>\n",
       "      <td>positive</td>\n",
       "      <td>2025-07-23T18:24:37</td>\n",
       "      <td>Positive</td>\n",
       "    </tr>\n",
       "    <tr>\n",
       "      <th>3</th>\n",
       "      <td>daf61a26-146d-4f31-bc37-7a4c4a15544d</td>\n",
       "      <td>account opening</td>\n",
       "      <td>website chat</td>\n",
       "      <td>Term herself law street class great prove redu...</td>\n",
       "      <td>positive</td>\n",
       "      <td>2025-06-19T00:01:01</td>\n",
       "      <td>Positive</td>\n",
       "    </tr>\n",
       "  </tbody>\n",
       "</table>\n",
       "</div>"
      ],
      "text/plain": [
       "                            customer_id     transaction_type       channel  \\\n",
       "0  bdd640fb-0667-4ad1-9c80-317fa3b1799d  transaction dispute         email   \n",
       "1  6b65a6a4-8b81-48f6-b38a-088ca65ed389  mobile app feedback    mobile app   \n",
       "2  580d7b71-d8f5-4413-9be6-128e18c26797  mobile app feedback        branch   \n",
       "3  daf61a26-146d-4f31-bc37-7a4c4a15544d      account opening  website chat   \n",
       "\n",
       "                                       feedback_text sentiment  \\\n",
       "0  Each cause bill scientist nation opportunity a...   neutral   \n",
       "1  Last everything thank serve civil institution ...   neutral   \n",
       "2  Enough analysis least by two bad fall pick tho...  positive   \n",
       "3  Term herself law street class great prove redu...  positive   \n",
       "\n",
       "             timestamp Sentiment_Analysis  \n",
       "0  2025-07-01T14:40:39            Neutral  \n",
       "1  2025-02-21T02:04:12            Neutral  \n",
       "2  2025-07-23T18:24:37           Positive  \n",
       "3  2025-06-19T00:01:01           Positive  "
      ]
     },
     "execution_count": 8,
     "metadata": {},
     "output_type": "execute_result"
    }
   ],
   "source": [
    "import os\n",
    "import google.generativeai as genai\n",
    "\n",
    "# Configure API key\n",
    "api_key = os.getenv(\"GOOGLE_API_KEY\")\n",
    "genai.configure(api_key=api_key)\n",
    "\n",
    "# Initialize the model\n",
    "model = genai.GenerativeModel(\"gemini-2.5-flash\")  # Use \"gemini-1.5-pro\" if needed\n",
    "\n",
    "# Define sentiment analysis function\n",
    "def analyze_sentiment(text):\n",
    "    prompt = f\"\"\"Analyze the sentiment of the following text and classify it as Positive, Negative, or Neutral:\\n\\n{text}\\n\\nSentiment:\n",
    "    Guidelines: only respond with one of the three words: Positive, Negative, Neutral.\"\"\"\n",
    "    response = model.generate_content(prompt)\n",
    "    return response.text.strip()\n",
    "\n",
    "# Apply to DataFrame\n",
    "result_df['Sentiment_Analysis'] = result_df['feedback_text'].apply(analyze_sentiment)\n",
    "result_df"
   ]
  }
 ],
 "metadata": {
  "kernelspec": {
   "display_name": ".venv",
   "language": "python",
   "name": "python3"
  },
  "language_info": {
   "codemirror_mode": {
    "name": "ipython",
    "version": 3
   },
   "file_extension": ".py",
   "mimetype": "text/x-python",
   "name": "python",
   "nbconvert_exporter": "python",
   "pygments_lexer": "ipython3",
   "version": "3.10.14"
  }
 },
 "nbformat": 4,
 "nbformat_minor": 5
}
