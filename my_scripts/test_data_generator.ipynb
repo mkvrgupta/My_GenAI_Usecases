{
 "cells": [
  {
   "cell_type": "code",
   "execution_count": 2,
   "id": "af1e2330",
   "metadata": {},
   "outputs": [],
   "source": [
    "import pandas as pd\n",
    "import random\n",
    "from faker import Faker\n",
    "from datetime import datetime, timedelta\n",
    "\n",
    "fake = Faker()\n",
    "Faker.seed(42)\n",
    "\n",
    "transaction_types = [\n",
    "    \"loan inquiry\", \"credit card issue\", \"account opening\", \"fraud report\",\n",
    "    \"mobile app feedback\", \"ATM issue\", \"interest rate query\", \"transaction dispute\"\n",
    "]\n",
    "\n",
    "channels = [\"branch\", \"mobile app\", \"call center\", \"email\", \"website chat\"]\n",
    "\n",
    "sentiments = [\"positive\", \"neutral\", \"negative\"]\n",
    "\n",
    "def generate_feedback(sentiment):\n",
    "    if sentiment == \"positive\":\n",
    "        return fake.sentence(nb_words=10) + \" Great service!\"\n",
    "    elif sentiment == \"neutral\":\n",
    "        return fake.sentence(nb_words=12)\n",
    "    else:\n",
    "        return fake.sentence(nb_words=8) + \" Very disappointed.\"\n",
    "\n",
    "data = []\n",
    "for i in range(5000):\n",
    "    sentiment = random.choices(sentiments, weights=[0.5, 0.3, 0.2])[0]\n",
    "    record = {\n",
    "        \"customer_id\": fake.uuid4(),\n",
    "        \"transaction_type\": random.choice(transaction_types),\n",
    "        \"channel\": random.choice(channels),\n",
    "        \"feedback_text\": generate_feedback(sentiment),\n",
    "        \"sentiment\": sentiment,\n",
    "        \"timestamp\": fake.date_time_between(start_date='-1y', end_date='now').isoformat()\n",
    "    }\n",
    "    data.append(record)\n",
    "\n",
    "df = pd.DataFrame(data)\n",
    "df.to_csv(\"banking_sentiment_data.csv\", index=False)"
   ]
  }
 ],
 "metadata": {
  "kernelspec": {
   "display_name": ".venv",
   "language": "python",
   "name": "python3"
  },
  "language_info": {
   "codemirror_mode": {
    "name": "ipython",
    "version": 3
   },
   "file_extension": ".py",
   "mimetype": "text/x-python",
   "name": "python",
   "nbconvert_exporter": "python",
   "pygments_lexer": "ipython3",
   "version": "3.10.14"
  }
 },
 "nbformat": 4,
 "nbformat_minor": 5
}
